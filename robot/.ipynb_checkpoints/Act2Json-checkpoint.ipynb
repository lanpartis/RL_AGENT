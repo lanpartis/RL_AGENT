{
 "cells": [
  {
   "cell_type": "code",
   "execution_count": 1,
   "metadata": {},
   "outputs": [],
   "source": [
    "import json\n"
   ]
  },
  {
   "cell_type": "code",
   "execution_count": 4,
   "metadata": {},
   "outputs": [],
   "source": [
    "names = list()\n",
    "times = list()\n",
    "keys = list()\n",
    "\n",
    "names.append(\"HeadPitch\")\n",
    "times.append([0.24, 0.76, 1.24, 1.52, 1.88, 2.32, 2.6])\n",
    "keys.append([0.523088, 0.623083, 0.523088, 0.523087, 0.404916, 0.179769, 0.00174533])\n",
    "\n",
    "names.append(\"HeadYaw\")\n",
    "times.append([0.24, 0.76, 1.24, 1.52, 1.88, 2.32, 2.6])\n",
    "keys.append([0, 0, 0, 0, 0, 0, 0])\n",
    "\n",
    "names.append(\"HipPitch\")\n",
    "times.append([0.24, 0.76, 1.24, 1.52, 1.88, 2.32, 2.6])\n",
    "keys.append([-0.0383496, -0.429351, -0.724312, -0.724312, -0.429351, -0.010472, -0.010472])\n",
    "\n",
    "names.append(\"HipRoll\")\n",
    "times.append([0.24, 0.76, 1.24, 1.52, 1.88, 2.32, 2.6])\n",
    "keys.append([-0.0184078, -0.0184078, -0.0184078, -0.0184078, -0.0184078, -0.0184078, -0.0184078])\n",
    "\n",
    "names.append(\"KneePitch\")\n",
    "times.append([0.24, 0.76, 1.24, 1.52, 1.88, 2.32, 2.6])\n",
    "keys.append([-0.0122719, -0.0122719, -0.0122719, -0.0122719, -0.0122719, -0.0122719, -0.0122719])\n"
   ]
  },
  {
   "cell_type": "code",
   "execution_count": 6,
   "metadata": {},
   "outputs": [],
   "source": [
    "act=dict()\n",
    "act['name']='bow'\n",
    "act['frames']=dict()"
   ]
  },
  {
   "cell_type": "code",
   "execution_count": null,
   "metadata": {},
   "outputs": [],
   "source": [
    "for i in range(len(names)):\n",
    "    act['frames'][names[i]]=dict()\n",
    "    "
   ]
  },
  {
   "cell_type": "code",
   "execution_count": null,
   "metadata": {},
   "outputs": [],
   "source": []
  }
 ],
 "metadata": {
  "kernelspec": {
   "display_name": "Python 3",
   "language": "python",
   "name": "python3"
  },
  "language_info": {
   "codemirror_mode": {
    "name": "ipython",
    "version": 3
   },
   "file_extension": ".py",
   "mimetype": "text/x-python",
   "name": "python",
   "nbconvert_exporter": "python",
   "pygments_lexer": "ipython3",
   "version": "3.6.4"
  }
 },
 "nbformat": 4,
 "nbformat_minor": 2
}

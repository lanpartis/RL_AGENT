{
 "cells": [
  {
   "cell_type": "code",
   "execution_count": 1,
   "metadata": {},
   "outputs": [],
   "source": [
    "import Pepper"
   ]
  },
  {
   "cell_type": "code",
   "execution_count": 3,
   "metadata": {},
   "outputs": [],
   "source": [
    "a = Pepper.Pepper('192.168.1.166')"
   ]
  },
  {
   "cell_type": "code",
   "execution_count": 7,
   "metadata": {},
   "outputs": [],
   "source": [
    "import sys \n",
    "import os"
   ]
  },
  {
   "cell_type": "code",
   "execution_count": 10,
   "metadata": {},
   "outputs": [
    {
     "data": {
      "text/plain": [
       "'/home/jiao/Documents/RL_AGENT/robot'"
      ]
     },
     "execution_count": 10,
     "metadata": {},
     "output_type": "execute_result"
    }
   ],
   "source": [
    "os.path.abspath('.')"
   ]
  },
  {
   "cell_type": "code",
   "execution_count": 11,
   "metadata": {},
   "outputs": [
    {
     "name": "stdout",
     "output_type": "stream",
     "text": [
      "Act2Json.ipynb  call_people_l.py  __init__.pyc  point_r.py      wave_l.py\n",
      "\u001b[0m\u001b[01;34mactions\u001b[0m/        call_people_r.py  nod.py        \u001b[01;34m__pycache__\u001b[0m/    wave_r.py\n",
      "action_test.py  Cam.py            Pepper.py     \u001b[01;34mros_numpy\u001b[0m/\n",
      "a.o             Cam.pyc           Pepper.pyc    Untitled.ipynb\n",
      "bow.py          __init__.py       point_l.py    \u001b[01;34mUtils\u001b[0m/\n"
     ]
    }
   ],
   "source": [
    "ls"
   ]
  },
  {
   "cell_type": "code",
   "execution_count": 29,
   "metadata": {},
   "outputs": [],
   "source": [
    "acts=open('actions/actions.data').readlines()\n",
    "for i in acts:\n",
    "    if i[-1] == '\\n':\n",
    "        i = i[:-1]"
   ]
  },
  {
   "cell_type": "code",
   "execution_count": 30,
   "metadata": {},
   "outputs": [
    {
     "data": {
      "text/plain": [
       "['wait\\n', 'nod\\n', 'bow\\n', 'call\\n', 'wave']"
      ]
     },
     "execution_count": 30,
     "metadata": {},
     "output_type": "execute_result"
    }
   ],
   "source": [
    "acts"
   ]
  },
  {
   "cell_type": "code",
   "execution_count": null,
   "metadata": {},
   "outputs": [],
   "source": [
    "import rospy\n",
    "import numpy as np\n",
    "import Utils.image as img_util\n",
    "import time\n",
    "from sensor_msgs.msg import Image\n",
    "fishcam='/camera/fisheye/image_raw'\n",
    "rgbcam='/camera/color/image_raw'\n",
    "depthcam='/camera/depth/image_raw'\n",
    "time_len=3\n",
    "FPS=8\n",
    "class State():\n",
    "    def __init__(self,maxlen=24):\n",
    "        self.state=list()\n",
    "        self.size=24\n",
    "    def put(self,img):\n",
    "        self.state.append(img)\n",
    "        if len(self.state)>self.size:\n",
    "            del self.state[0]\n",
    "    def show(self):\n",
    "        if len(self.state)<self.size:\n",
    "            return False,len(self.state)\n",
    "        return np.array(self.state)\n",
    "\n",
    "glob_states=dict()\n",
    "glob_states[fishcam]=State()\n",
    "glob_states[rgbcam]=State()\n",
    "glob_states[depthcam]=State()\n",
    "class Cam():\n",
    "    def __init__(self,FPS=FPS,state=State(time_len*FPS)):\n",
    "        self.FPS=FPS\n",
    "        rospy.set_param('/camera/driver/color_width',480)\n",
    "        rospy.set_param('/camera/driver/depth_width',480)\n",
    "        rospy.set_param('/camera/driver/color_height',320)\n",
    "        rospy.set_param('/camera/driver/depth_height',320)\n",
    "        \n",
    "        rospy.init_node('cam_listener',anonymous=True)\n",
    "        rospy.Subscriber(fishcam,Image,callback_fish)\n",
    "#         rospy.Subscriber(rgbcam,Image,callback_rgb)\n",
    "#         rospy.Subscriber(depthcam,Image,callback_depth)\n",
    "        rospy.set_param(fishcam+'/theora/keyframe_frequency',FPS)\n",
    "        rospy.set_param(rgbcam+'/theora/keyframe_frequency',FPS)\n",
    "        rospy.set_param(depthcam+'/theora/keyframe_frequency',FPS)\n",
    "        print 'init camera'\n",
    "        while True:\n",
    "            state = self.get_state(fishcam,3)\n",
    "            if state[0] is not False:\n",
    "                break\n",
    "\n",
    "    def get_size(self,name):\n",
    "        return len(glob_states[name].state)\n",
    "    def get_state(self,name,delay):\n",
    "        time.sleep(delay)\n",
    "        return glob_states[name].show()\n",
    "\n",
    "def callback_fish(data):\n",
    "    data = img_util.image_to_numpy(data)\n",
    "    glob_states[fishcam].put(data)\n",
    "    print(time.time())\n",
    "def callback_rgb(data):\n",
    "    data = img_util.image_to_numpy(data)\n",
    "    glob_states[rgbcam].put(data)\n",
    "def callback_depth(data):\n",
    "    data = img_util.image_to_numpy(data)\n",
    "    glob_states[depthcam].put(data)\n",
    "\n"
   ]
  }
 ],
 "metadata": {
  "kernelspec": {
   "display_name": "Python 2",
   "language": "python",
   "name": "python2"
  },
  "language_info": {
   "codemirror_mode": {
    "name": "ipython",
    "version": 2
   },
   "file_extension": ".py",
   "mimetype": "text/x-python",
   "name": "python",
   "nbconvert_exporter": "python",
   "pygments_lexer": "ipython2",
   "version": "2.7.15"
  }
 },
 "nbformat": 4,
 "nbformat_minor": 2
}

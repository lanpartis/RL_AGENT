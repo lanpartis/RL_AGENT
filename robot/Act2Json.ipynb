{
 "cells": [
  {
   "cell_type": "code",
   "execution_count": 1,
   "metadata": {},
   "outputs": [],
   "source": [
    "import json\n"
   ]
  },
  {
   "cell_type": "code",
   "execution_count": 2,
   "metadata": {},
   "outputs": [],
   "source": [
    "names = list()\n",
    "times = list()\n",
    "keys = list()\n",
    "\n",
    "names =['HeadYaw','HeadPitch']\n",
    "times=[[0.5,3.0],[0.5,3.0]]\n",
    "keys = [[0.0,0.0],[-0.16,-0.16]]"
   ]
  },
  {
   "cell_type": "code",
   "execution_count": 3,
   "metadata": {},
   "outputs": [],
   "source": [
    "name='wait'\n",
    "act=dict()\n",
    "act['name']=name\n",
    "act['frames']=dict()"
   ]
  },
  {
   "cell_type": "code",
   "execution_count": 4,
   "metadata": {},
   "outputs": [],
   "source": [
    "for i in range(len(names)):\n",
    "    act['frames'][names[i]]=dict()\n",
    "    act['frames'][names[i]]['times']=times[i]\n",
    "    act['frames'][names[i]]['keys']=keys[i]"
   ]
  },
  {
   "cell_type": "code",
   "execution_count": 5,
   "metadata": {},
   "outputs": [],
   "source": [
    "j=json.dumps(act)"
   ]
  },
  {
   "cell_type": "code",
   "execution_count": 6,
   "metadata": {},
   "outputs": [],
   "source": [
    "file=open(name+'.json','x')\n",
    "file.write(j)\n",
    "file.close()"
   ]
  },
  {
   "cell_type": "code",
   "execution_count": 73,
   "metadata": {},
   "outputs": [
    {
     "data": {
      "text/plain": [
       "{'frames': {'HeadPitch': {'keys': [0.523088,\n",
       "    0.623083,\n",
       "    0.523088,\n",
       "    0.523087,\n",
       "    0.404916,\n",
       "    0.179769,\n",
       "    0.00174533],\n",
       "   'times': [0.24, 0.76, 1.24, 1.52, 1.88, 2.32, 2.6]},\n",
       "  'HeadYaw': {'keys': [0, 0, 0, 0, 0, 0, 0],\n",
       "   'times': [0.24, 0.76, 1.24, 1.52, 1.88, 2.32, 2.6]},\n",
       "  'HipPitch': {'keys': [-0.0383496,\n",
       "    -0.429351,\n",
       "    -0.724312,\n",
       "    -0.724312,\n",
       "    -0.429351,\n",
       "    -0.010472,\n",
       "    -0.010472],\n",
       "   'times': [0.24, 0.76, 1.24, 1.52, 1.88, 2.32, 2.6]},\n",
       "  'HipRoll': {'keys': [-0.0184078,\n",
       "    -0.0184078,\n",
       "    -0.0184078,\n",
       "    -0.0184078,\n",
       "    -0.0184078,\n",
       "    -0.0184078,\n",
       "    -0.0184078],\n",
       "   'times': [0.24, 0.76, 1.24, 1.52, 1.88, 2.32, 2.6]},\n",
       "  'KneePitch': {'keys': [-0.0122719,\n",
       "    -0.0122719,\n",
       "    -0.0122719,\n",
       "    -0.0122719,\n",
       "    -0.0122719,\n",
       "    -0.0122719,\n",
       "    -0.0122719],\n",
       "   'times': [0.24, 0.76, 1.24, 1.52, 1.88, 2.32, 2.6]}},\n",
       " 'name': 'bow'}"
      ]
     },
     "execution_count": 73,
     "metadata": {},
     "output_type": "execute_result"
    }
   ],
   "source": [
    "json.load(open('actions/bow.json'))"
   ]
  },
  {
   "cell_type": "code",
   "execution_count": 74,
   "metadata": {},
   "outputs": [],
   "source": [
    "import glob"
   ]
  },
  {
   "cell_type": "code",
   "execution_count": 78,
   "metadata": {},
   "outputs": [
    {
     "data": {
      "text/plain": [
       "['actions/bow.json',\n",
       " 'actions/nod.json',\n",
       " 'actions/call_peopel_r.json',\n",
       " 'actions/point_l.json',\n",
       " 'actions/wave_r.json',\n",
       " 'actions/point_r.json',\n",
       " 'actions/wave_l.json',\n",
       " 'actions/call_peopel_l.json']"
      ]
     },
     "execution_count": 78,
     "metadata": {},
     "output_type": "execute_result"
    }
   ],
   "source": [
    "glob.glob('actions/*.json')"
   ]
  },
  {
   "cell_type": "code",
   "execution_count": 83,
   "metadata": {},
   "outputs": [],
   "source": [
    "a=json.load(open('actions/bow.json'))\n",
    "b=json.load(open('actions/nod.json'))"
   ]
  },
  {
   "cell_type": "code",
   "execution_count": 87,
   "metadata": {},
   "outputs": [],
   "source": [
    "acts=dict()\n",
    "fils = glob.glob('actions/*.json')\n",
    "for fil in fils:\n",
    "    act_j = json.load(open(fil))\n",
    "    acts[act_j['name']]=act_j['frames']\n"
   ]
  },
  {
   "cell_type": "code",
   "execution_count": 92,
   "metadata": {},
   "outputs": [],
   "source": [
    "act=acts['bow']"
   ]
  },
  {
   "cell_type": "code",
   "execution_count": 94,
   "metadata": {},
   "outputs": [],
   "source": [
    "names=list()\n",
    "keys=list()\n",
    "times=list()\n",
    "for i in list(act.keys()):\n",
    "    names.append(i)\n",
    "    keys.append(act[i]['keys'])\n",
    "    times.append(act[i]['times'])"
   ]
  },
  {
   "cell_type": "code",
   "execution_count": 98,
   "metadata": {},
   "outputs": [
    {
     "data": {
      "text/plain": [
       "['HeadPitch', 'HeadYaw', 'HipPitch', 'HipRoll', 'KneePitch']"
      ]
     },
     "execution_count": 98,
     "metadata": {},
     "output_type": "execute_result"
    }
   ],
   "source": [
    "names"
   ]
  },
  {
   "cell_type": "code",
   "execution_count": null,
   "metadata": {},
   "outputs": [],
   "source": []
  }
 ],
 "metadata": {
  "kernelspec": {
   "display_name": "Python 3",
   "language": "python",
   "name": "python3"
  },
  "language_info": {
   "codemirror_mode": {
    "name": "ipython",
    "version": 3
   },
   "file_extension": ".py",
   "mimetype": "text/x-python",
   "name": "python",
   "nbconvert_exporter": "python",
   "pygments_lexer": "ipython3",
   "version": "3.6.4"
  }
 },
 "nbformat": 4,
 "nbformat_minor": 2
}

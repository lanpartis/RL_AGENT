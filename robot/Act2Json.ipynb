{
 "cells": [
  {
   "cell_type": "code",
   "execution_count": 1,
   "metadata": {},
   "outputs": [],
   "source": [
    "import json\n"
   ]
  },
  {
   "cell_type": "code",
   "execution_count": 101,
   "metadata": {},
   "outputs": [],
   "source": [
    "names = list()\n",
    "times = list()\n",
    "keys = list()\n",
    "names.append(\"LElbowRoll\")\n",
    "times.append([0.4, 0.6, 1.04, 1.44, 1.6, 1.88, 2.12, 2.36, 2.56, 2.76, 3.6])\n",
    "keys.append([-0.518486, -0.527689, -0.846757, -1.09607, -0.786932, -0.912807, -0.63879, -0.932006, -0.994838, -0.923279, -0.228638])\n",
    "\n",
    "names.append(\"LElbowYaw\")\n",
    "times.append([0.4, 0.6, 1.04, 1.44, 1.6, 1.88, 2.12, 2.36, 2.56, 2.76, 3.6])\n",
    "keys.append([-1.21184, -1.14895, 0.0997088, 0.966408, 0.966408, 0.951068, 1.01055, 0.951068, 0.951068, 0.951068, -1.29852])\n",
    "\n",
    "names.append(\"LHand\")\n",
    "times.append([0.4, 0.6, 1.04, 1.44, 1.6, 1.88, 2.36, 2.56, 2.76, 3.6])\n",
    "keys.append([0.388401, 0.565026, 0.782074, 0.9, 0.9, 0.98, 0.94, 0.77, 0.86, 0.565026])\n",
    "\n",
    "names.append(\"LShoulderPitch\")\n",
    "times.append([0.4, 0.6, 1.04, 1.44, 1.6, 1.88, 2.12, 2.36, 2.56, 2.76, 3.6])\n",
    "keys.append([1.56926, 1.24252, -0.254641, -1.07379, -1.07379, -0.958186, -1.11527, -0.853466, -0.825541, -1.08452, 1.48178])\n",
    "\n",
    "names.append(\"LShoulderRoll\")\n",
    "times.append([0.4, 0.6, 1.04, 1.44, 1.6, 1.88, 2.36, 2.56, 2.76, 3.6])\n",
    "keys.append([0.15033, 0.18675, 0.213223, 0.222427, 0.222427, 0.18101, 0.18101, 0.18101, 0.18101, 0.205949])\n",
    "\n",
    "names.append(\"LWristYaw\")\n",
    "times.append([0.4, 0.6, 1.04, 1.44, 1.6, 1.88, 2.36, 2.56, 2.76, 3.6])\n",
    "keys.append([-0.116542, 0.898966, -0.207048, -1.10751, -1.10751, -0.954106, -0.954107, -0.954107, -0.954107, -0.125664])\n"
   ]
  },
  {
   "cell_type": "code",
   "execution_count": 102,
   "metadata": {},
   "outputs": [],
   "source": [
    "name='call_people_l'\n",
    "act=dict()\n",
    "act['name']=name\n",
    "act['frames']=dict()"
   ]
  },
  {
   "cell_type": "code",
   "execution_count": 103,
   "metadata": {},
   "outputs": [],
   "source": [
    "for i in range(len(names)):\n",
    "    act['frames'][names[i]]=dict()\n",
    "    act['frames'][names[i]]['times']=times[i]\n",
    "    act['frames'][names[i]]['keys']=keys[i]"
   ]
  },
  {
   "cell_type": "code",
   "execution_count": 104,
   "metadata": {},
   "outputs": [],
   "source": [
    "j=json.dumps(act)"
   ]
  },
  {
   "cell_type": "code",
   "execution_count": 105,
   "metadata": {},
   "outputs": [],
   "source": [
    "file=open(name+'.json','x')\n",
    "file.write(j)\n",
    "file.close()"
   ]
  },
  {
   "cell_type": "code",
   "execution_count": 73,
   "metadata": {},
   "outputs": [
    {
     "data": {
      "text/plain": [
       "{'frames': {'HeadPitch': {'keys': [0.523088,\n",
       "    0.623083,\n",
       "    0.523088,\n",
       "    0.523087,\n",
       "    0.404916,\n",
       "    0.179769,\n",
       "    0.00174533],\n",
       "   'times': [0.24, 0.76, 1.24, 1.52, 1.88, 2.32, 2.6]},\n",
       "  'HeadYaw': {'keys': [0, 0, 0, 0, 0, 0, 0],\n",
       "   'times': [0.24, 0.76, 1.24, 1.52, 1.88, 2.32, 2.6]},\n",
       "  'HipPitch': {'keys': [-0.0383496,\n",
       "    -0.429351,\n",
       "    -0.724312,\n",
       "    -0.724312,\n",
       "    -0.429351,\n",
       "    -0.010472,\n",
       "    -0.010472],\n",
       "   'times': [0.24, 0.76, 1.24, 1.52, 1.88, 2.32, 2.6]},\n",
       "  'HipRoll': {'keys': [-0.0184078,\n",
       "    -0.0184078,\n",
       "    -0.0184078,\n",
       "    -0.0184078,\n",
       "    -0.0184078,\n",
       "    -0.0184078,\n",
       "    -0.0184078],\n",
       "   'times': [0.24, 0.76, 1.24, 1.52, 1.88, 2.32, 2.6]},\n",
       "  'KneePitch': {'keys': [-0.0122719,\n",
       "    -0.0122719,\n",
       "    -0.0122719,\n",
       "    -0.0122719,\n",
       "    -0.0122719,\n",
       "    -0.0122719,\n",
       "    -0.0122719],\n",
       "   'times': [0.24, 0.76, 1.24, 1.52, 1.88, 2.32, 2.6]}},\n",
       " 'name': 'bow'}"
      ]
     },
     "execution_count": 73,
     "metadata": {},
     "output_type": "execute_result"
    }
   ],
   "source": [
    "json.load(open('actions/bow.json'))"
   ]
  },
  {
   "cell_type": "code",
   "execution_count": 74,
   "metadata": {},
   "outputs": [],
   "source": [
    "import glob"
   ]
  },
  {
   "cell_type": "code",
   "execution_count": 78,
   "metadata": {},
   "outputs": [
    {
     "data": {
      "text/plain": [
       "['actions/bow.json',\n",
       " 'actions/nod.json',\n",
       " 'actions/call_peopel_r.json',\n",
       " 'actions/point_l.json',\n",
       " 'actions/wave_r.json',\n",
       " 'actions/point_r.json',\n",
       " 'actions/wave_l.json',\n",
       " 'actions/call_peopel_l.json']"
      ]
     },
     "execution_count": 78,
     "metadata": {},
     "output_type": "execute_result"
    }
   ],
   "source": [
    "glob.glob('actions/*.json')"
   ]
  },
  {
   "cell_type": "code",
   "execution_count": 83,
   "metadata": {},
   "outputs": [],
   "source": [
    "a=json.load(open('actions/bow.json'))\n",
    "b=json.load(open('actions/nod.json'))"
   ]
  },
  {
   "cell_type": "code",
   "execution_count": 87,
   "metadata": {},
   "outputs": [],
   "source": [
    "acts=dict()\n",
    "fils = glob.glob('actions/*.json')\n",
    "for fil in fils:\n",
    "    act_j = json.load(open(fil))\n",
    "    acts[act_j['name']]=act_j['frames']\n"
   ]
  },
  {
   "cell_type": "code",
   "execution_count": 92,
   "metadata": {},
   "outputs": [],
   "source": [
    "act=acts['bow']"
   ]
  },
  {
   "cell_type": "code",
   "execution_count": 94,
   "metadata": {},
   "outputs": [],
   "source": [
    "names=list()\n",
    "keys=list()\n",
    "times=list()\n",
    "for i in list(act.keys()):\n",
    "    names.append(i)\n",
    "    keys.append(act[i]['keys'])\n",
    "    times.append(act[i]['times'])"
   ]
  },
  {
   "cell_type": "code",
   "execution_count": 98,
   "metadata": {},
   "outputs": [
    {
     "data": {
      "text/plain": [
       "['HeadPitch', 'HeadYaw', 'HipPitch', 'HipRoll', 'KneePitch']"
      ]
     },
     "execution_count": 98,
     "metadata": {},
     "output_type": "execute_result"
    }
   ],
   "source": [
    "names"
   ]
  },
  {
   "cell_type": "code",
   "execution_count": null,
   "metadata": {},
   "outputs": [],
   "source": []
  }
 ],
 "metadata": {
  "kernelspec": {
   "display_name": "Python 3",
   "language": "python",
   "name": "python3"
  },
  "language_info": {
   "codemirror_mode": {
    "name": "ipython",
    "version": 3
   },
   "file_extension": ".py",
   "mimetype": "text/x-python",
   "name": "python",
   "nbconvert_exporter": "python",
   "pygments_lexer": "ipython3",
   "version": "3.6.4"
  }
 },
 "nbformat": 4,
 "nbformat_minor": 2
}

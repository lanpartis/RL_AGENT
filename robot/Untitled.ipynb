{
 "cells": [
  {
   "cell_type": "code",
   "execution_count": 1,
   "metadata": {},
   "outputs": [],
   "source": [
    "import Pepper"
   ]
  },
  {
   "cell_type": "code",
   "execution_count": 12,
   "metadata": {},
   "outputs": [],
   "source": [
    "import qi"
   ]
  },
  {
   "cell_type": "code",
   "execution_count": 15,
   "metadata": {},
   "outputs": [],
   "source": [
    "ip='192.168.1.121'\n",
    "port = 9559\n",
    "session = qi.Session()\n",
    "session.connect(\"tcp://\" + ip + \":\" + str(port))\n",
    "life_service = session.service(\"ALAutonomousLife\")\n",
    "life_service.setAutonomousAbilityEnabled(\"BackgroundMovement\", False)"
   ]
  },
  {
   "cell_type": "code",
   "execution_count": 5,
   "metadata": {},
   "outputs": [],
   "source": []
  },
  {
   "cell_type": "code",
   "execution_count": 2,
   "metadata": {},
   "outputs": [],
   "source": [
    "a = Pepper.Pepper('192.168.1.121')"
   ]
  },
  {
   "cell_type": "code",
   "execution_count": 11,
   "metadata": {},
   "outputs": [
    {
     "data": {
      "text/plain": [
       "True"
      ]
     },
     "execution_count": 11,
     "metadata": {},
     "output_type": "execute_result"
    }
   ],
   "source": [
    "a.motion.wakeUp()"
   ]
  },
  {
   "cell_type": "code",
   "execution_count": 10,
   "metadata": {},
   "outputs": [],
   "source": [
    "a.motion.rest()"
   ]
  },
  {
   "cell_type": "code",
   "execution_count": 7,
   "metadata": {},
   "outputs": [],
   "source": [
    "import sys \n",
    "import os"
   ]
  },
  {
   "cell_type": "code",
   "execution_count": 12,
   "metadata": {},
   "outputs": [],
   "source": [
    "os.environ['ROS_MASTER_URI']='http://192.168.1.117:11311'"
   ]
  },
  {
   "cell_type": "code",
   "execution_count": 11,
   "metadata": {},
   "outputs": [
    {
     "name": "stdout",
     "output_type": "stream",
     "text": [
      "Act2Json.ipynb  call_people_l.py  __init__.pyc  point_r.py      wave_l.py\n",
      "\u001b[0m\u001b[01;34mactions\u001b[0m/        call_people_r.py  nod.py        \u001b[01;34m__pycache__\u001b[0m/    wave_r.py\n",
      "action_test.py  Cam.py            Pepper.py     \u001b[01;34mros_numpy\u001b[0m/\n",
      "a.o             Cam.pyc           Pepper.pyc    Untitled.ipynb\n",
      "bow.py          __init__.py       point_l.py    \u001b[01;34mUtils\u001b[0m/\n"
     ]
    }
   ],
   "source": [
    "ls"
   ]
  },
  {
   "cell_type": "code",
   "execution_count": 29,
   "metadata": {},
   "outputs": [],
   "source": [
    "acts=open('actions/actions.data').readlines()\n",
    "for i in acts:\n",
    "    if i[-1] == '\\n':\n",
    "        i = i[:-1]"
   ]
  },
  {
   "cell_type": "code",
   "execution_count": 30,
   "metadata": {},
   "outputs": [
    {
     "data": {
      "text/plain": [
       "['wait\\n', 'nod\\n', 'bow\\n', 'call\\n', 'wave']"
      ]
     },
     "execution_count": 30,
     "metadata": {},
     "output_type": "execute_result"
    }
   ],
   "source": [
    "acts"
   ]
  },
  {
   "cell_type": "code",
   "execution_count": 1,
   "metadata": {},
   "outputs": [],
   "source": [
    "import rospy\n",
    "import numpy as np\n",
    "import Utils.image as img_util\n",
    "import time\n",
    "from sensor_msgs.msg import Image\n",
    "fishcam='/camera/fisheye/image_raw'\n",
    "rgbcam='/camera/color/image_raw'\n",
    "depthcam='/camera/depth/image_raw'\n",
    "time_len=3\n",
    "FPS=8\n",
    "class State():\n",
    "    def __init__(self,maxlen=24):\n",
    "        self.state=list()\n",
    "        self.size=24\n",
    "    def put(self,img):\n",
    "        self.state.append(img)\n",
    "        if len(self.state)>self.size:\n",
    "            del self.state[0]\n",
    "    def show(self):\n",
    "        if len(self.state)<self.size:\n",
    "            return False,len(self.state)\n",
    "        return np.array(self.state)\n",
    "\n",
    "glob_states=dict()\n",
    "glob_states[fishcam]=State()\n",
    "glob_states[rgbcam]=State()\n",
    "glob_states[depthcam]=State()\n",
    "class Cam():\n",
    "    def __init__(self,FPS=FPS,state=State(time_len*FPS)):\n",
    "        self.FPS=FPS\n",
    "\n",
    "        \n",
    "        rospy.init_node('cam_listener',anonymous=True)\n",
    "        rospy.Subscriber(fishcam,Image,callback_fish)\n",
    "        rospy.Subscriber(rgbcam,Image,callback_rgb)\n",
    "        rospy.Subscriber(depthcam,Image,callback_depth)\n",
    "        rospy.set_param(fishcam+'/theora/keyframe_frequency',FPS)\n",
    "        rospy.set_param(rgbcam+'/theora/keyframe_frequency',FPS)\n",
    "        rospy.set_param(depthcam+'/theora/keyframe_frequency',FPS)\n",
    "        print 'init camera'\n",
    "        while True:\n",
    "            state = self.get_state(fishcam,3)\n",
    "            if state[0] is not False:\n",
    "                break\n",
    "\n",
    "    def get_size(self,name):\n",
    "        return len(glob_states[name].state)\n",
    "    def get_state(self,name,delay):\n",
    "        time.sleep(delay)\n",
    "        return glob_states[name].show()\n",
    "\n",
    "def callback_fish(data):\n",
    "    data = img_util.image_to_numpy(data)\n",
    "    glob_states[fishcam].put(data)\n",
    "    print('fisheye:',time.time())\n",
    "def callback_rgb(data):\n",
    "    data = img_util.image_to_numpy(data)\n",
    "    glob_states[rgbcam].put(data)\n",
    "    print('rgb:',time.time())\n",
    "def callback_depth(data):\n",
    "    data = img_util.image_to_numpy(data)\n",
    "    glob_states[depthcam].put(data)\n",
    "\n"
   ]
  },
  {
   "cell_type": "code",
   "execution_count": 2,
   "metadata": {},
   "outputs": [
    {
     "name": "stdout",
     "output_type": "stream",
     "text": [
      "init camera\n",
      "('rgb:', 1528792857.382796)\n",
      "('fisheye:', 1528792857.384357)\n",
      "('rgb:', 1528792857.622162)\n",
      "('fisheye:', 1528792857.656212)\n",
      "('rgb:', 1528792857.85405)\n",
      "('fisheye:', 1528792857.927108)\n",
      "('rgb:', 1528792858.164748)\n",
      "('fisheye:', 1528792858.300956)\n",
      "('rgb:', 1528792858.473981)\n",
      "('fisheye:', 1528792858.588718)\n",
      "('rgb:', 1528792858.653232)\n",
      "('fisheye:', 1528792858.785711)\n",
      "('rgb:', 1528792858.815031)\n",
      "('fisheye:', 1528792858.987914)\n",
      "('rgb:', 1528792859.017003)\n",
      "('fisheye:', 1528792859.185555)\n",
      "('rgb:', 1528792859.21482)\n",
      "('rgb:', 1528792859.440114)\n",
      "('fisheye:', 1528792859.502051)\n",
      "('rgb:', 1528792859.722444)\n",
      "('fisheye:', 1528792859.829822)\n",
      "('rgb:', 1528792859.952026)\n",
      "('fisheye:', 1528792860.079395)\n",
      "('rgb:', 1528792860.193248)\n",
      "('fisheye:', 1528792860.434988)\n",
      "('rgb:', 1528792860.475291)\n",
      "('rgb:', 1528792860.717543)\n",
      "('fisheye:', 1528792860.731917)\n",
      "('rgb:', 1528792860.943921)\n",
      "('fisheye:', 1528792861.024911)\n",
      "('rgb:', 1528792861.204139)\n",
      "('fisheye:', 1528792861.341684)\n",
      "('rgb:', 1528792861.51567)\n",
      "('fisheye:', 1528792861.644465)\n",
      "('rgb:', 1528792861.771285)\n",
      "('fisheye:', 1528792861.917333)\n",
      "('rgb:', 1528792862.032073)\n",
      "('fisheye:', 1528792862.20721)\n",
      "('rgb:', 1528792862.331897)\n",
      "('fisheye:', 1528792862.524418)\n",
      "('rgb:', 1528792862.597319)\n",
      "('rgb:', 1528792862.832417)\n",
      "('fisheye:', 1528792862.836299)\n",
      "('fisheye:', 1528792863.094863)\n",
      "('rgb:', 1528792863.116536)\n",
      "('fisheye:', 1528792863.372025)\n",
      "('rgb:', 1528792863.45018)\n",
      "('fisheye:', 1528792863.626325)\n",
      "('rgb:', 1528792863.769674)\n",
      "('fisheye:', 1528792863.929598)\n",
      "('rgb:', 1528792864.134429)\n",
      "('fisheye:', 1528792864.302249)\n",
      "('rgb:', 1528792864.44974)\n",
      "('fisheye:', 1528792864.540337)\n",
      "('rgb:', 1528792864.74346)\n",
      "('fisheye:', 1528792864.806077)\n",
      "('rgb:', 1528792865.101572)\n",
      "('fisheye:', 1528792865.157912)\n",
      "('rgb:', 1528792865.408658)\n",
      "('fisheye:', 1528792865.432291)\n",
      "('fisheye:', 1528792865.638055)\n",
      "('rgb:', 1528792865.664243)\n",
      "('fisheye:', 1528792865.881126)\n",
      "('rgb:', 1528792865.937189)\n",
      "('fisheye:', 1528792866.109703)\n",
      "('rgb:', 1528792866.162916)\n"
     ]
    }
   ],
   "source": [
    "cam = Cam()"
   ]
  },
  {
   "cell_type": "code",
   "execution_count": 4,
   "metadata": {},
   "outputs": [
    {
     "name": "stdout",
     "output_type": "stream",
     "text": [
      "('fisheye:', 1528792870.020354)\n",
      "('rgb:', 1528792870.259073)\n",
      "('fisheye:', 1528792870.377663)\n",
      "('rgb:', 1528792870.56809)\n",
      "('fisheye:', 1528792870.639551)\n",
      "('rgb:', 1528792870.786405)\n",
      "('fisheye:', 1528792870.904911)\n",
      "('rgb:', 1528792871.133466)\n",
      "('fisheye:', 1528792871.309089)\n",
      "('rgb:', 1528792871.45331)\n",
      "('fisheye:', 1528792871.567585)\n",
      "('rgb:', 1528792871.769631)\n",
      "('fisheye:', 1528792871.91858)\n",
      "('rgb:', 1528792872.085206)\n",
      "('fisheye:', 1528792872.236476)\n",
      "('rgb:', 1528792872.378492)\n",
      "('fisheye:', 1528792872.514523)\n",
      "('rgb:', 1528792872.638472)\n",
      "('fisheye:', 1528792872.76703)\n",
      "('rgb:', 1528792872.871779)\n",
      "('fisheye:', 1528792873.008538)\n",
      "('rgb:', 1528792873.129782)\n",
      "('fisheye:', 1528792873.290195)\n",
      "('rgb:', 1528792873.372775)\n",
      "('fisheye:', 1528792873.646559)\n",
      "('rgb:', 1528792873.700561)\n",
      "('fisheye:', 1528792874.004438)\n",
      "('rgb:', 1528792874.025358)\n",
      "('rgb:', 1528792874.353382)\n",
      "('fisheye:', 1528792874.361927)\n",
      "('rgb:', 1528792874.611967)\n",
      "('fisheye:', 1528792874.632617)\n",
      "('rgb:', 1528792874.941911)\n",
      "('fisheye:', 1528792874.956209)\n",
      "('rgb:', 1528792875.170875)\n",
      "('fisheye:', 1528792875.265717)\n",
      "('rgb:', 1528792875.433639)\n",
      "('fisheye:', 1528792875.538265)\n",
      "('rgb:', 1528792875.741337)\n",
      "('fisheye:', 1528792875.834175)\n"
     ]
    }
   ],
   "source": [
    "res = cam.get_state(rgbcam,1)"
   ]
  },
  {
   "cell_type": "code",
   "execution_count": 6,
   "metadata": {},
   "outputs": [
    {
     "data": {
      "text/plain": [
       "(24, 240, 320, 3)"
      ]
     },
     "execution_count": 6,
     "metadata": {},
     "output_type": "execute_result"
    },
    {
     "name": "stdout",
     "output_type": "stream",
     "text": [
      "('rgb:', 1528792884.875791)\n",
      "('rgb:', 1528792885.232451)\n",
      "('fisheye:', 1528792885.306874)\n",
      "('rgb:', 1528792885.611936)\n",
      "('fisheye:', 1528792885.76328)\n",
      "('rgb:', 1528792885.995723)\n",
      "('fisheye:', 1528792886.329239)\n",
      "('rgb:', 1528792886.449867)\n",
      "('rgb:', 1528792886.876638)\n",
      "('fisheye:', 1528792886.886336)\n",
      "('rgb:', 1528792887.258007)\n",
      "('fisheye:', 1528792887.309017)\n",
      "('rgb:', 1528792887.665608)\n",
      "('fisheye:', 1528792887.758811)\n",
      "('rgb:', 1528792888.040336)\n",
      "('fisheye:', 1528792888.173546)\n",
      "('rgb:', 1528792888.401968)\n",
      "('fisheye:', 1528792888.660518)\n",
      "('rgb:', 1528792888.731533)\n",
      "('fisheye:', 1528792889.017546)\n",
      "('rgb:', 1528792889.100563)\n",
      "('fisheye:', 1528792889.396133)\n",
      "('rgb:', 1528792889.421562)\n",
      "('rgb:', 1528792889.790907)\n",
      "('fisheye:', 1528792889.832647)\n",
      "('rgb:', 1528792890.160592)\n",
      "('fisheye:', 1528792890.181401)\n",
      "('rgb:', 1528792890.4243)\n",
      "('fisheye:', 1528792890.504888)\n"
     ]
    }
   ],
   "source": [
    "res.shape"
   ]
  },
  {
   "cell_type": "code",
   "execution_count": 13,
   "metadata": {},
   "outputs": [
    {
     "data": {
      "text/plain": [
       "(False, 0)"
      ]
     },
     "execution_count": 13,
     "metadata": {},
     "output_type": "execute_result"
    }
   ],
   "source": []
  },
  {
   "cell_type": "code",
   "execution_count": 2,
   "metadata": {},
   "outputs": [
    {
     "data": {
      "text/plain": [
       "{'base_frame_id': 'camera_link',\n",
       " 'camera_type': 'LR200M',\n",
       " 'color_backlight_compensation': 0,\n",
       " 'color_brightness': 0,\n",
       " 'color_contrast': 50,\n",
       " 'color_enable_auto_exposure': 1,\n",
       " 'color_enable_auto_white_balance': 1,\n",
       " 'color_exposure': 166,\n",
       " 'color_fps': 30,\n",
       " 'color_frame_id': 'camera_rgb_frame',\n",
       " 'color_gain': 64,\n",
       " 'color_gamma': 280,\n",
       " 'color_height': 240,\n",
       " 'color_hue': 0,\n",
       " 'color_optical_frame_id': 'camera_rgb_optical_frame',\n",
       " 'color_saturation': 64,\n",
       " 'color_sharpness': 7,\n",
       " 'color_white_balance': 4600,\n",
       " 'color_width': 320,\n",
       " 'depth_fps': 30,\n",
       " 'depth_frame_id': 'camera_depth_frame',\n",
       " 'depth_height': 240,\n",
       " 'depth_optical_frame_id': 'camera_depth_optical_frame',\n",
       " 'depth_width': 320,\n",
       " 'enable_6dof': False,\n",
       " 'enable_color': True,\n",
       " 'enable_depth': True,\n",
       " 'enable_fisheye': True,\n",
       " 'enable_imu': True,\n",
       " 'enable_pointcloud': False,\n",
       " 'enable_tf': True,\n",
       " 'fisheye_auto_exposure_antiflicker_rate': 60,\n",
       " 'fisheye_auto_exposure_mode': 0,\n",
       " 'fisheye_auto_exposure_pixel_sample_rate': 1,\n",
       " 'fisheye_auto_exposure_skip_frames': 2,\n",
       " 'fisheye_enable_auto_exposure': 1,\n",
       " 'fisheye_exposure': 40,\n",
       " 'fisheye_external_trigger': 0,\n",
       " 'fisheye_frame_id': 'camera_fisheye_frame',\n",
       " 'fisheye_gain': 0,\n",
       " 'fisheye_optical_frame_id': 'camera_fisheye_optical_frame',\n",
       " 'fisheye_strobe': 0,\n",
       " 'frames_queue_size': 20,\n",
       " 'hardware_logger_enabled': 0,\n",
       " 'imu_frame_id': 'camera_imu_frame',\n",
       " 'imu_optical_frame_id': 'camera_imu_optical_frame',\n",
       " 'ir2_frame_id': 'camera_ir2_frame',\n",
       " 'ir2_optical_frame_id': 'camera_ir2_optical_frame',\n",
       " 'ir_frame_id': 'camera_ir_frame',\n",
       " 'ir_optical_frame_id': 'camera_ir_optical_frame',\n",
       " 'mode': 'manual',\n",
       " 'r200_dc_estimate_median_decrement': 5,\n",
       " 'r200_dc_estimate_median_increment': 5,\n",
       " 'r200_dc_lr_threshold': 24,\n",
       " 'r200_dc_median_threshold': 115,\n",
       " 'r200_dc_neighbor_threshold': 3,\n",
       " 'r200_dc_preset': 2,\n",
       " 'r200_dc_score_maximum_threshold': 512,\n",
       " 'r200_dc_score_minimum_threshold': 1,\n",
       " 'r200_dc_second_peak_threshold': 25,\n",
       " 'r200_dc_texture_count_threshold': 6,\n",
       " 'r200_dc_texture_difference_threshold': 18,\n",
       " 'r200_depth_clamp_max': 65535,\n",
       " 'r200_depth_clamp_min': 0,\n",
       " 'r200_emitter_enabled': 1,\n",
       " 'r200_lr_auto_exposure_enabled': 1,\n",
       " 'r200_lr_exposure': 164,\n",
       " 'r200_lr_gain': 400,\n",
       " 'serial_no': '',\n",
       " 'usb_port_id': ''}"
      ]
     },
     "execution_count": 2,
     "metadata": {},
     "output_type": "execute_result"
    }
   ],
   "source": [
    "rospy.get_param('/camera/driver')"
   ]
  },
  {
   "cell_type": "code",
   "execution_count": null,
   "metadata": {},
   "outputs": [],
   "source": []
  }
 ],
 "metadata": {
  "kernelspec": {
   "display_name": "Python 2",
   "language": "python",
   "name": "python2"
  },
  "language_info": {
   "codemirror_mode": {
    "name": "ipython",
    "version": 2
   },
   "file_extension": ".py",
   "mimetype": "text/x-python",
   "name": "python",
   "nbconvert_exporter": "python",
   "pygments_lexer": "ipython2",
   "version": "2.7.15"
  }
 },
 "nbformat": 4,
 "nbformat_minor": 2
}

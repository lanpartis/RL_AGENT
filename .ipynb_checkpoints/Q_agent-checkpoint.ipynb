{
 "cells": [
  {
   "cell_type": "markdown",
   "metadata": {},
   "source": [
    "# Q Agent"
   ]
  },
  {
   "cell_type": "code",
   "execution_count": 24,
   "metadata": {},
   "outputs": [],
   "source": [
    "import random\n",
    "from NN_models.Q_model import DQN as Q_model\n",
    "from torch.optim import Adam\n",
    "from torch.autograd import Variable\n",
    "import torch\n",
    "import thread\n",
    "import os\n",
    "import numpy as np\n",
    "from PIL import Image\n",
    "import glob\n",
    "use_GPU = False\n",
    "PILMODE='L'"
   ]
  },
  {
   "cell_type": "code",
   "execution_count": 23,
   "metadata": {},
   "outputs": [
    {
     "ename": "IndentationError",
     "evalue": "expected an indented block (<ipython-input-23-66864deaa213>, line 60)",
     "output_type": "error",
     "traceback": [
      "\u001b[0;36m  File \u001b[0;32m\"<ipython-input-23-66864deaa213>\"\u001b[0;36m, line \u001b[0;32m60\u001b[0m\n\u001b[0;31m    def save_state(state,ep,time_stamp):\u001b[0m\n\u001b[0m                                        ^\u001b[0m\n\u001b[0;31mIndentationError\u001b[0m\u001b[0;31m:\u001b[0m expected an indented block\n"
     ]
    }
   ],
   "source": [
    "\n",
    "class DQNAgent:\n",
    "    model_path='DQN_models'\n",
    "    memory_path='RL_DATA/'\n",
    "    state_file=memory_path+'STATE'\n",
    "    action_file=memory_path+'aACTION'\n",
    "    ep_reward_file=memory_path+'ep_reward.dat'\n",
    "    batch_size = 25\n",
    "    epsilon = 1\n",
    "    epsilon_decay = 0.99\n",
    "    epsilon_final = 0.1\n",
    "    epsilon_endtime = 30000\n",
    "    action_size = 5\n",
    "    discount_factor = 0.7\n",
    "    n_replay = 1 #replay per learning step\n",
    "    learn_start = 3000\n",
    "    replay_memory = 30000\n",
    "    clip_delta = 1\n",
    "\n",
    "    def __init__(self,episode=0):\n",
    "        self.ep = episode\n",
    "        if episode==0:\n",
    "            self.F_model = Q_model()\n",
    "            self.target_F_model = Q_model()\n",
    "        else:\n",
    "            self.load_model(episode)\n",
    "        if use_GPU:\n",
    "            self.F_model.cuda()\n",
    "            self.target_F_model.cuda()\n",
    "#         self.Y_optimizer = torch.optim.Adam(self.Y_model.parameters(),1e-4)\n",
    "    \n",
    "    def get_action(self,state):\n",
    "        nsize = [1,]\n",
    "        nsize.extend(state.shape)\n",
    "        state = state.reshape(nsize)\n",
    "        state = Variable(torch.Tensor(state))\n",
    "        state = torch.Tensor(state)\n",
    "        if use_GPU:\n",
    "            state = state.cuda()\n",
    "        res = self.Y_model(state)\n",
    "        _,act = res.max()\n",
    "        return max\n",
    "    def get_action_eps(self,state):\n",
    "        if random.random() <= self.epsilon:\n",
    "            #if self.epsilon > self.epsilon_final:\n",
    "                #self.epsilon*=self.epsilon_decay\n",
    "            return random.randint(0,self.action_size-1)\n",
    "        return self.get_action(state)\n",
    "            \n",
    "    \n",
    "    def memorize(self,state,action,n_state,ep,ts):\n",
    "        thread.start_new_thread(save_state,(state,ep,ts))\n",
    "        thread.start_new_thread(save_action,(action,ep,ts))\n",
    "\n",
    "    def save_model(self,tag=None):\n",
    "        name='episode_%d_model'%self.ep\n",
    "        if tag is not None:\n",
    "            name += tag\n",
    "        torch.save(self.target_F_model,name+'.model')\n",
    "        \n",
    "    def load_model(self):\n",
    "        name='episode_%d_model'%(self.ep-1)\n",
    "        self.F_model = torch.load(name)\n",
    "        self.target_F_model=torch.load(name)\n",
    "    \n",
    "    def update_target_model(self):\n",
    "        self.target_F_model.load_state_dict(self.F_model.state_dict())\n",
    "        \n",
    "    \n",
    "def save_state(state,ep,time_stamp):\n",
    "    s_dir='RL_DATA/EP%d/STATE/s%04d'%(ep,time_stamp)\n",
    "    if not os.path.isdir(s_dir):\n",
    "        os.makedirs(s_dir)\n",
    "    for i in range(state.shape[0]):\n",
    "        frame=Image.fromarray(state[i],PILMODE)\n",
    "        frame.save(s_dir+'/%04d.png'%i)\n",
    "def save_action(action,ep,time_stamp):\n",
    "    s_dir='RL_DATA/EP%d/ACTION'%ep\n",
    "    if not os.path.isdir(s_dir):\n",
    "        os.makedirs(s_dir)\n",
    "    actfil=open(s_dir+'/a%04d.data'%time_stamp,'w')\n",
    "    actfil.write(str(action))\n",
    "    actfil.close()"
   ]
  },
  {
   "cell_type": "code",
   "execution_count": 20,
   "metadata": {},
   "outputs": [],
   "source": [
    "state = np.zeros((24,320,480))\n",
    "nsize = [1,]\n",
    "nsize.extend(state.shape)\n",
    "state = state.reshape(nsize)\n",
    "state = Variable(torch.Tensor(state))"
   ]
  },
  {
   "cell_type": "code",
   "execution_count": 22,
   "metadata": {},
   "outputs": [],
   "source": [
    "# train"
   ]
  },
  {
   "cell_type": "code",
   "execution_count": 15,
   "metadata": {},
   "outputs": [],
   "source": [
    "def load_memory_of_episode(episode):\n",
    "    directory = 'RL_DATA/EP%d'\n",
    "    #load states\n",
    "    s_dir = directory +'/STATE'\n",
    "    s = Image\n",
    "    \n",
    "    return memories"
   ]
  },
  {
   "cell_type": "code",
   "execution_count": 26,
   "metadata": {},
   "outputs": [],
   "source": []
  },
  {
   "cell_type": "code",
   "execution_count": 37,
   "metadata": {},
   "outputs": [],
   "source": [
    "directory = 'RL_DATA/EP%d'%1\n",
    "#load states\n",
    "s_dir = directory +'/STATE/'\n",
    "s_list = glob.glob(s_dir+'*')"
   ]
  },
  {
   "cell_type": "code",
   "execution_count": 41,
   "metadata": {},
   "outputs": [],
   "source": [
    "s = '%04d'%3"
   ]
  },
  {
   "cell_type": "code",
   "execution_count": 42,
   "metadata": {},
   "outputs": [
    {
     "data": {
      "text/plain": [
       "'0003'"
      ]
     },
     "execution_count": 42,
     "metadata": {},
     "output_type": "execute_result"
    }
   ],
   "source": [
    "s"
   ]
  },
  {
   "cell_type": "code",
   "execution_count": null,
   "metadata": {},
   "outputs": [],
   "source": []
  }
 ],
 "metadata": {
  "kernelspec": {
   "display_name": "Python 2",
   "language": "python",
   "name": "python2"
  },
  "language_info": {
   "codemirror_mode": {
    "name": "ipython",
    "version": 2
   },
   "file_extension": ".py",
   "mimetype": "text/x-python",
   "name": "python",
   "nbconvert_exporter": "python",
   "pygments_lexer": "ipython2",
   "version": "2.7.15"
  }
 },
 "nbformat": 4,
 "nbformat_minor": 2
}

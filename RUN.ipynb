{
 "cells": [
  {
   "cell_type": "code",
   "execution_count": null,
   "metadata": {},
   "outputs": [
    {
     "name": "stdout",
     "output_type": "stream",
     "text": [
      "init camera\n",
      "fisheye  1528956620.56\n",
      "fisheye  1528956621.32\n",
      "fisheye  1528956622.25\n",
      "fisheye  1528956623.1\n",
      "fisheye  1528956624.04\n",
      "fisheye  1528956624.75\n",
      "fisheye  1528956625.72\n",
      "fisheye  1528956626.77\n",
      "fisheye  1528956627.73\n",
      "fisheye  1528956628.6\n",
      "fisheye  1528956629.45\n",
      "fisheye  1528956630.2\n"
     ]
    }
   ],
   "source": [
    "from Q_agent import DQNAgent\n",
    "from robot import Cam\n",
    "from robot import Pepper\n",
    "import thread\n",
    "import time\n",
    "import numpy as np\n",
    "from PIL import Image\n",
    "import torch\n",
    "from torchvision.transforms import Compose,ToTensor,Resize\n",
    "Image_size=[240,240]\n",
    "ip='192.168.1.121'\n",
    "robot = Pepper.Pepper(ip=ip)\n",
    "Q_Agent = DQNAgent()\n",
    "ep_file='RL_DATA/EP.data'\n",
    "time_unit = 3\n",
    "camera = Cam.fishcam\n",
    "actions=robot.action_list\n",
    "ep = int(open(ep_file).read())\n",
    "time_stamp = 0\n",
    "def trans(imgs):\n",
    "    res=list()\n",
    "    for img in imgs:\n",
    "        img=Image.fromarray(img)\n",
    "        img=img.resize(Image_size)\n",
    "        img=np.array(img)\n",
    "        res.append(img)\n",
    "    res=np.stack(res)\n",
    "    return res\n",
    "def to_tensor(imgs):\n",
    "    res = list()\n",
    "    for img in imgs:\n",
    "        img = Image.fromarray(img)\n",
    "        img = ToTensor()(img)\n",
    "        res.append(img)\n",
    "    return torch.cat(res,dim=0)\n",
    "    \n",
    "def proc_state(state):\n",
    "    s_tensor=[]\n",
    "    for s in state:\n",
    "        s_tensor.append(trans(s))\n",
    "    s_tensor=torch.cat(s_tensor,dim=0)\n",
    "    return s_tensor\n",
    "def resample(state):\n",
    "    return state[-24:]\n",
    "cam = Cam.Cam()\n",
    "robot.perform_act('wait')\n",
    "state = cam.get_state(camera,time_unit)\n",
    "state = trans(resample(state))\n",
    "\n"
   ]
  },
  {
   "cell_type": "code",
   "execution_count": null,
   "metadata": {},
   "outputs": [],
   "source": [
    "while True:\n",
    "    s = time.time()\n",
    "    state_tensor = to_tensor(state)\n",
    "    act_num = Q_Agent.get_action_eps(state_tensor)\n",
    "    print 'action is %s'%actions[act_num]\n",
    "    time.sleep(1)\n",
    "    thread.start_new_thread(robot.perform_act,(actions[act_num],))\n",
    "    time.sleep(0.3)\n",
    "    n_state = cam.get_state(camera,time_unit)\n",
    "    n_state = trans(resample(n_state))\n",
    "    Q_Agent.memorize(state,act_num,n_state,ep,time_stamp)\n",
    "    state = n_state\n",
    "    time_stamp+=1\n",
    "    print time.time()-s"
   ]
  },
  {
   "cell_type": "code",
   "execution_count": null,
   "metadata": {},
   "outputs": [
    {
     "name": "stdout",
     "output_type": "stream",
     "text": [
      "Unable to register with master node [http://192.168.1.224:11311]: master may not be running yet. Will keep trying.\n"
     ]
    }
   ],
   "source": [
    "cam = Cam.Cam()"
   ]
  },
  {
   "cell_type": "code",
   "execution_count": null,
   "metadata": {},
   "outputs": [],
   "source": []
  }
 ],
 "metadata": {
  "kernelspec": {
   "display_name": "Python 2",
   "language": "python",
   "name": "python2"
  },
  "language_info": {
   "codemirror_mode": {
    "name": "ipython",
    "version": 2
   },
   "file_extension": ".py",
   "mimetype": "text/x-python",
   "name": "python",
   "nbconvert_exporter": "python",
   "pygments_lexer": "ipython2",
   "version": "2.7.15"
  }
 },
 "nbformat": 4,
 "nbformat_minor": 2
}

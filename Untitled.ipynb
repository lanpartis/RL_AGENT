{
 "cells": [
  {
   "cell_type": "markdown",
   "metadata": {},
   "source": [
    "# Q Agent"
   ]
  },
  {
   "cell_type": "code",
   "execution_count": null,
   "metadata": {},
   "outputs": [],
   "source": [
    "class DQNAgent:\n",
    "    model_path='DQN_models\n",
    "    memory_path='RL_DATA/'\n",
    "    state_file=memory_path+'STATE'\n",
    "    action_file=memory_path+'aACTION'\n",
    "    ep_reward_file=memory_path+'ep_reward.dat'\n",
    "    batch_size = 25\n",
    "    epsilon = 1\n",
    "    epsilon_decay = 0.99\n",
    "    epsilon_final = 0.1\n",
    "    epsilon_endtime = 30000\n",
    "    action_size = 4\n",
    "    discount_factor = 0.7\n",
    "    n_replay = 1 #replay per learning step\n",
    "    learn_start = 3000\n",
    "    replay_memory = 30000\n",
    "    memory = deque(maxlen=replay_memory)\n",
    "    clip_delta = 1\n",
    "\n",
    "    def __init__(self,episode=0):\n",
    "        if episode==0:\n",
    "            self.Y_model = self.build_model()\n",
    "            self.target_Y_model = self.build_model()\n",
    "            # self.D_model = self.build_model()\n",
    "            # self.target_D_model = self.build_model()\n",
    "        else:\n",
    "            self.load_model(episode)\n",
    "        self.Y_model.double()\n",
    "        # self.D_model.double()\n",
    "        self.target_Y_model.double()\n",
    "        # self.target_D_model.double()\n",
    "        if cuda:\n",
    "            self.Y_model.cuda()\n",
    "            self.target_Y_model.cuda()\n",
    "            # self.D_model.cuda()\n",
    "            # self.target_D_model.cuda()\n",
    "        self.Y_optimizer = torch.optim.RMSprop(self.Y_model.parameters(),1e-4)\n",
    "        # self.D_optimizer = torch.optim.RMSprop(self.D_model.parameters(),1e-4)\n",
    "\n"
   ]
  }
 ],
 "metadata": {
  "kernelspec": {
   "display_name": "Python 3",
   "language": "python",
   "name": "python3"
  },
  "language_info": {
   "codemirror_mode": {
    "name": "ipython",
    "version": 3
   },
   "file_extension": ".py",
   "mimetype": "text/x-python",
   "name": "python",
   "nbconvert_exporter": "python",
   "pygments_lexer": "ipython3",
   "version": "3.6.4"
  }
 },
 "nbformat": 4,
 "nbformat_minor": 2
}
